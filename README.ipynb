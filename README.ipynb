{
 "cells": [
  {
   "cell_type": "code",
   "execution_count": null,
   "metadata": {
    "collapsed": true
   },
   "outputs": [],
   "source": [
    "import cv2\n",
    "from matplotlib import pyplot as plt\n",
    "import numpy as np"
   ]
  },
  {
   "cell_type": "code",
   "execution_count": null,
   "metadata": {},
   "outputs": [],
   "source": [
    "img_path = \"/home/petr/Program files/Python_projects/Haugh/hough-circles-cvlab-master/img/Cars\"\n",
    "\n",
    "def show_image(img):\n",
    "    if img is None:\n",
    "        print('None!')\n",
    "        return \n",
    "    plt.axis('off')\n",
    "    plt.imshow(cv2.cvtColor(img, cv2.COLOR_BGR2RGB))\n",
    "    plt.show()\n",
    "\n",
    "def load_img(path, n=None):\n",
    "    fname = n or 1\n",
    "    img = cv2.imread(\"%s/%d.jpg\" % (path, fname))\n",
    "    return fname, img\n",
    "\n",
    "def wheelDetector(img, min_Rad, max_Rad, accumulatorThreshold, minDistance, paramKenny):\n",
    "    gimg = cv2.cvtColor(img, cv2.COLOR_BGR2GRAY)\n",
    "    d = min(gimg.shape)\n",
    "    \n",
    "    circles = cv2.HoughCircles(gimg, cv2.HOUGH_GRADIENT, 1, minDist=minDistance,\n",
    "                               param1=paramKenny,\n",
    "                               param2=accumulatorThreshold, minRadius=min_Rad, maxRadius=max_Rad)\n",
    "    \n",
    "    if circles is None:\n",
    "        return None, False\n",
    "    timg = img.copy()\n",
    "    hasCar = False\n",
    "    for i in circles[0, :]:\n",
    "        cv2.circle(timg, (i[0], i[1]), i[2], (0, 255, 0), 2)\n",
    "        cv2.circle(timg, (i[0], i[1]), 2, (0, 0, 255), 3)\n",
    "        for j in circles[0, :]:\n",
    "            if (abs(i[0] - j[0]) >= 50) and (abs(i[1] - j[1]) <= 75) and (abs(i[2] != j[2]) <= 10):\n",
    "                hasCar = True\n",
    "    \n",
    "    return timg, hasCar"
   ]
  },
  {
   "cell_type": "markdown",
   "metadata": {},
   "source": [
    "Пример работы алгоритма"
   ]
  },
  {
   "cell_type": "code",
   "execution_count": null,
   "metadata": {},
   "outputs": [],
   "source": [
    "image_number = 2\n",
    "_, img = load_img(img_path, image_number)\n",
    "\n",
    "bimg = cv2.blur(img, (5,5))\n",
    "#for accThr in range(150, 50, -5):\n",
    "minR = 120\n",
    "maxR = 150\n",
    "accThr = 150\n",
    "minDist = 55\n",
    "paramKenny = 170\n",
    "hasCar = False\n",
    "while (minR >= 0) and (not hasCar):\n",
    "    while (accThr >=40) and (not hasCar) :   \n",
    "        #show_image(foo2(img, minR, maxR, accThr))  \n",
    "        while (paramKenny > 70) and (not hasCar):\n",
    "            foo2_img, hasCar = wheelDetector(bimg, minR, maxR, accThr, minDist, paramKenny)\n",
    "            paramKenny -=10\n",
    "        accThr -= 5\n",
    "        paramKenny = 150\n",
    "    minR -= 5\n",
    "    maxR -= 5\n",
    "    accThr = 150\n",
    "    \n",
    "if hasCar:\n",
    "    show_image(foo2_img)\n",
    "    print(\"Car is here\")\n",
    "else:\n",
    "    print(\"This image don't has car\")"
   ]
  },
  {
   "cell_type": "markdown",
   "metadata": {},
   "source": [
    "Разбор алгоритма"
   ]
  },
  {
   "cell_type": "markdown",
   "metadata": {},
   "source": [
    "Основой программы является фукнкция\n",
    "wheelDetector(img, min_Rad, max_Rad, accumulatorThreshold, minDistance, paramKenny), которая получает картинку, минимальный и максимальный радиусы, параметр для аккумулятора и параметр для метод Кенни. Возвращает изображение с нарисованными кругами(если получилось найти круги) и лагическое значение(True - найдна машина на картинки, False - не найдена).\n",
    "Изображение, полученное методом, преобразуется в полутоновое и передается в \n",
    "\n",
    "cv2.HoughCircles(gimg, cv2.HOUGH_GRADIENT, 1, minDist=minDistance,\n",
    "                               param1=paramKenny,\n",
    "                               param2=accumulatorThreshold, minRadius=min_Rad, maxRadius=max_Rad)\n",
    "где:\n",
    "gmig - 8-битное, одноканальное, полутоновое изображение;\n",
    "cv2.HOUGH_GRADIENT - метод обнаружения, в данный момент реализован только этот;\n",
    "minDist - минимально расстояние между центрами обнаруженных кругов;\n",
    "param1 - параметр для метода Кенни;\n",
    "param2 - попрог аккумулятора для центров окружностей. Чем меньше, тем больше ложных окружностей. Сначала будут возвращены круги, соответствующие большим \n",
    "\tзначениям аккумулятора;\n",
    "minRadius - минимальный радиус для обнаруженного круга;\n",
    "maxRadius - максимальный радиус для обнаруженного круга;\n",
    "Возвращает вектор найденный кругов\n",
    "\n",
    "Затем проходит по вектору кругов, и в соответствии с неким логическим выражением определяет наличие машины на картинки.\n",
    "Для улучшения точности изображения сначала \"размывается\"(bimg = cv2.blur(img, (5,5))), а затем передается в wheelDetector. \n",
    "При попытке обнаружения машины, мы пробегаемся по param1, param2, начиная с высоких значений: 170 и 150 соответственно, и заканчивая на 70 и 40\n",
    "\n",
    "Данный алгоритм показал точность 69% на наборе из 100 изображений. Для улучшения точности, необходимо использовать изображения одного качества, с наличием информаци о размере возможной машины."
   ]
  },
  {
   "cell_type": "code",
   "execution_count": null,
   "metadata": {},
   "outputs": [],
   "source": [
    ""
   ]
  }
 ],
 "metadata": {
  "kernelspec": {
   "display_name": "Python 2",
   "language": "python",
   "name": "python2"
  },
  "language_info": {
   "codemirror_mode": {
    "name": "ipython",
    "version": 2.0
   },
   "file_extension": ".py",
   "mimetype": "text/x-python",
   "name": "python",
   "nbconvert_exporter": "python",
   "pygments_lexer": "ipython2",
   "version": "2.7.6"
  }
 },
 "nbformat": 4,
 "nbformat_minor": 0
}